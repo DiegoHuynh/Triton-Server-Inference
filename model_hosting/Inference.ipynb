{
 "cells": [
  {
   "cell_type": "code",
   "execution_count": null,
   "metadata": {},
   "outputs": [],
   "source": [
    "import numpy as np\n",
    "import torch\n",
    "import torchvision.transforms as transforms\n",
    "from PIL import Image\n",
    "import tritonclient.http as httpclient\n",
    "\n",
    "image = Image.open(r\"C:\\Users\\Asus\\OneDrive - camann\\Desktop\\notebook\\OJT_Spring2025\\Deploy_ONNX_model\\Deploy-ONNX-model\\model_repository\\img1.jpg\").convert(\"RGB\")\n",
    "transform = transforms.Compose([\n",
    "    transforms.Resize((224, 224)),\n",
    "    transforms.ToTensor(),\n",
    "    transforms.Normalize([0.485, 0.456, 0.406], [0.229, 0.224, 0.225])\n",
    "])\n",
    "transformed_img = transform(image).unsqueeze(0).numpy() \n"
   ]
  },
  {
   "cell_type": "code",
   "execution_count": null,
   "metadata": {},
   "outputs": [
    {
     "name": "stdout",
     "output_type": "stream",
     "text": [
      "['11.481906:14' '11.101565:92' '8.271426:88' '7.760969:17' '7.278370:90']\n"
     ]
    }
   ],
   "source": [
    "client = httpclient.InferenceServerClient(url=\"localhost:8000\")\n",
    "\n",
    "inputs = httpclient.InferInput(\"data_0\", transformed_img.shape, datatype=\"FP32\")\n",
    "inputs.set_data_from_numpy(transformed_img, binary_data=True)\n",
    "\n",
    "outputs = httpclient.InferRequestedOutput(\"fc6_1\", binary_data=True, class_count=1000)\n",
    "\n",
    "results = client.infer(model_name=\"densenet_onnx\", inputs=[inputs], outputs=[outputs])\n",
    "\n",
    "inference_output = results.as_numpy('fc6_1').astype(str)\n",
    "print(np.squeeze(inference_output)[:5])"
   ]
  },
  {
   "cell_type": "code",
   "execution_count": null,
   "metadata": {},
   "outputs": [],
   "source": []
  }
 ],
 "metadata": {
  "kernelspec": {
   "display_name": ".venv",
   "language": "python",
   "name": "python3"
  },
  "language_info": {
   "codemirror_mode": {
    "name": "ipython",
    "version": 3
   },
   "file_extension": ".py",
   "mimetype": "text/x-python",
   "name": "python",
   "nbconvert_exporter": "python",
   "pygments_lexer": "ipython3",
   "version": "3.13.2"
  }
 },
 "nbformat": 4,
 "nbformat_minor": 2
}
