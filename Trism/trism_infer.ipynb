{
 "cells": [
  {
   "cell_type": "code",
   "execution_count": 5,
   "metadata": {},
   "outputs": [
    {
     "name": "stdout",
     "output_type": "stream",
     "text": [
      "name: data_0, shape: [1, 3, 224, 224], datatype: <class 'numpy.float32'>\n",
      "\n",
      "name: fc6_1, shape: [1, 1000, 1, 1], datatype: <class 'numpy.float32'>\n",
      "\n",
      "[57.774952, 48.204025, 48.08253, 45.74531, 45.602333]\n"
     ]
    }
   ],
   "source": [
    "from trism import TritonModel\n",
    "import numpy as np\n",
    "import cv2\n",
    "# Create triton model.\n",
    "model = TritonModel(\n",
    "  model=\"densenet_onnx\",     # Model name.\n",
    "  version=1,            # Model version.\n",
    "  url=\"localhost:8001\", # Triton Server URL.\n",
    "  grpc=True             # Use gRPC or Http.\n",
    ")\n",
    "\n",
    "# View metadata.\n",
    "for inp in model.inputs:\n",
    "  print(f\"name: {inp.name}, shape: {inp.shape}, datatype: {inp.dtype}\\n\")\n",
    "for out in model.outputs:\n",
    "  print(f\"name: {out.name}, shape: {out.shape}, datatype: {out.dtype}\\n\")\n",
    "\n",
    "img = cv2.imread(r\"C:\\Users\\Duc Huynh\\Triton-Server-Inference\\model_hosting\\img1.jpg\")\n",
    "img = cv2.resize(img, (224, 224))\n",
    "img = cv2.cvtColor(img, cv2.COLOR_BGR2RGB)\n",
    "img = img.transpose((2, 0, 1))\n",
    "transformed_img = np.expand_dims(img, axis=0).astype(np.float32)\n",
    "# Inference\n",
    "outputs = model.run(data=[transformed_img])\n",
    "print(sorted(np.squeeze(outputs['fc6_1']), reverse=True)[:5])"
   ]
  }
 ],
 "metadata": {
  "kernelspec": {
   "display_name": "Python 3",
   "language": "python",
   "name": "python3"
  },
  "language_info": {
   "codemirror_mode": {
    "name": "ipython",
    "version": 3
   },
   "file_extension": ".py",
   "mimetype": "text/x-python",
   "name": "python",
   "nbconvert_exporter": "python",
   "pygments_lexer": "ipython3",
   "version": "3.12.8"
  }
 },
 "nbformat": 4,
 "nbformat_minor": 2
}
