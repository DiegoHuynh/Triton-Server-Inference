{
 "cells": [
  {
   "cell_type": "code",
   "execution_count": 5,
   "metadata": {},
   "outputs": [],
   "source": [
    "import numpy as np\n",
    "import cv2\n",
    "from trism import TritonModel"
   ]
  },
  {
   "cell_type": "code",
   "execution_count": null,
   "metadata": {},
   "outputs": [
    {
     "ename": "AttributeError",
     "evalue": "module 'numpy' has no attribute 'astype'",
     "output_type": "error",
     "traceback": [
      "\u001b[1;31m---------------------------------------------------------------------------\u001b[0m",
      "\u001b[1;31mAttributeError\u001b[0m                            Traceback (most recent call last)",
      "Cell \u001b[1;32mIn[6], line 20\u001b[0m\n\u001b[0;32m     17\u001b[0m image \u001b[38;5;241m=\u001b[39m np\u001b[38;5;241m.\u001b[39mtranspose(image, (\u001b[38;5;241m2\u001b[39m, \u001b[38;5;241m0\u001b[39m, \u001b[38;5;241m1\u001b[39m))  \u001b[38;5;66;03m# [3, 224, 224]\u001b[39;00m\n\u001b[0;32m     18\u001b[0m image \u001b[38;5;241m=\u001b[39m np\u001b[38;5;241m.\u001b[39mexpand_dims(image, axis\u001b[38;5;241m=\u001b[39m\u001b[38;5;241m0\u001b[39m)    \u001b[38;5;66;03m# [1, 3, 224, 224]\u001b[39;00m\n\u001b[1;32m---> 20\u001b[0m outputs \u001b[38;5;241m=\u001b[39m \u001b[43mmodel\u001b[49m\u001b[38;5;241;43m.\u001b[39;49m\u001b[43mrun\u001b[49m\u001b[43m(\u001b[49m\u001b[43mdata\u001b[49m\u001b[38;5;241;43m=\u001b[39;49m\u001b[43m[\u001b[49m\u001b[43mimage\u001b[49m\u001b[43m]\u001b[49m\u001b[43m)\u001b[49m\n\u001b[0;32m     21\u001b[0m \u001b[38;5;28mprint\u001b[39m(outputs)\n",
      "File \u001b[1;32mc:\\Users\\Duc Huynh\\AppData\\Local\\Programs\\Python\\Python312\\Lib\\site-packages\\trism\\model.py:41\u001b[0m, in \u001b[0;36mTritonModel.run\u001b[1;34m(self, data)\u001b[0m\n\u001b[0;32m     40\u001b[0m \u001b[38;5;28;01mdef\u001b[39;00m\u001b[38;5;250m \u001b[39m\u001b[38;5;21mrun\u001b[39m(\u001b[38;5;28mself\u001b[39m, data: \u001b[38;5;28mlist\u001b[39m[np\u001b[38;5;241m.\u001b[39marray]):\n\u001b[1;32m---> 41\u001b[0m   inputs \u001b[38;5;241m=\u001b[39m [\u001b[38;5;28;43mself\u001b[39;49m\u001b[38;5;241;43m.\u001b[39;49m\u001b[43minputs\u001b[49m\u001b[43m[\u001b[49m\u001b[43mi\u001b[49m\u001b[43m]\u001b[49m\u001b[38;5;241;43m.\u001b[39;49m\u001b[43mmake_input\u001b[49m\u001b[43m(\u001b[49m\u001b[38;5;28;43mself\u001b[39;49m\u001b[38;5;241;43m.\u001b[39;49m\u001b[43m_protoclient\u001b[49m\u001b[43m,\u001b[49m\u001b[43m \u001b[49m\u001b[43mdata\u001b[49m\u001b[43m[\u001b[49m\u001b[43mi\u001b[49m\u001b[43m]\u001b[49m\u001b[43m)\u001b[49m \u001b[38;5;28;01mfor\u001b[39;00m i \u001b[38;5;129;01min\u001b[39;00m \u001b[38;5;28mrange\u001b[39m(\u001b[38;5;28mlen\u001b[39m(\u001b[38;5;28mself\u001b[39m\u001b[38;5;241m.\u001b[39minputs))]\n\u001b[0;32m     42\u001b[0m   outputs \u001b[38;5;241m=\u001b[39m [output\u001b[38;5;241m.\u001b[39mmake_output(\u001b[38;5;28mself\u001b[39m\u001b[38;5;241m.\u001b[39m_protoclient) \u001b[38;5;28;01mfor\u001b[39;00m output \u001b[38;5;129;01min\u001b[39;00m \u001b[38;5;28mself\u001b[39m\u001b[38;5;241m.\u001b[39moutputs]\n\u001b[0;32m     43\u001b[0m   results \u001b[38;5;241m=\u001b[39m \u001b[38;5;28mself\u001b[39m\u001b[38;5;241m.\u001b[39m_serverclient\u001b[38;5;241m.\u001b[39minfer(\u001b[38;5;28mself\u001b[39m\u001b[38;5;241m.\u001b[39mmodel, inputs, \u001b[38;5;28mself\u001b[39m\u001b[38;5;241m.\u001b[39mversion, outputs)\n",
      "File \u001b[1;32mc:\\Users\\Duc Huynh\\AppData\\Local\\Programs\\Python\\Python312\\Lib\\site-packages\\trism\\inout.py:32\u001b[0m, in \u001b[0;36mInout.make_input\u001b[1;34m(self, client, data)\u001b[0m\n\u001b[0;32m     26\u001b[0m \u001b[38;5;28;01mdef\u001b[39;00m\u001b[38;5;250m \u001b[39m\u001b[38;5;21mmake_input\u001b[39m(\u001b[38;5;28mself\u001b[39m, client, data: np\u001b[38;5;241m.\u001b[39marray) \u001b[38;5;241m-\u001b[39m\u001b[38;5;241m>\u001b[39m grpcclient\u001b[38;5;241m.\u001b[39mInferInput \u001b[38;5;241m|\u001b[39m httpclient\u001b[38;5;241m.\u001b[39mInferInput:\n\u001b[0;32m     27\u001b[0m   infer \u001b[38;5;241m=\u001b[39m client\u001b[38;5;241m.\u001b[39mInferInput(\n\u001b[0;32m     28\u001b[0m     name\u001b[38;5;241m=\u001b[39m\u001b[38;5;28mself\u001b[39m\u001b[38;5;241m.\u001b[39mname,\n\u001b[0;32m     29\u001b[0m     shape\u001b[38;5;241m=\u001b[39mdata\u001b[38;5;241m.\u001b[39mshape,\n\u001b[0;32m     30\u001b[0m     datatype\u001b[38;5;241m=\u001b[39mtypes\u001b[38;5;241m.\u001b[39mnp2trt(\u001b[38;5;28mself\u001b[39m\u001b[38;5;241m.\u001b[39mdtype)\n\u001b[0;32m     31\u001b[0m   )\n\u001b[1;32m---> 32\u001b[0m   infer\u001b[38;5;241m.\u001b[39mset_data_from_numpy(\u001b[43mnp\u001b[49m\u001b[38;5;241;43m.\u001b[39;49m\u001b[43mastype\u001b[49m(data, \u001b[38;5;28mself\u001b[39m\u001b[38;5;241m.\u001b[39mdtype))\n\u001b[0;32m     33\u001b[0m   \u001b[38;5;28;01mreturn\u001b[39;00m infer\n",
      "File \u001b[1;32mc:\\Users\\Duc Huynh\\AppData\\Local\\Programs\\Python\\Python312\\Lib\\site-packages\\numpy\\__init__.py:347\u001b[0m, in \u001b[0;36m__getattr__\u001b[1;34m(attr)\u001b[0m\n\u001b[0;32m    344\u001b[0m     \u001b[38;5;124m\"\u001b[39m\u001b[38;5;124mRemoved in NumPy 1.25.0\u001b[39m\u001b[38;5;124m\"\u001b[39m\n\u001b[0;32m    345\u001b[0m     \u001b[38;5;28;01mraise\u001b[39;00m \u001b[38;5;167;01mRuntimeError\u001b[39;00m(\u001b[38;5;124m\"\u001b[39m\u001b[38;5;124mTester was removed in NumPy 1.25.\u001b[39m\u001b[38;5;124m\"\u001b[39m)\n\u001b[1;32m--> 347\u001b[0m \u001b[38;5;28;01mraise\u001b[39;00m \u001b[38;5;167;01mAttributeError\u001b[39;00m(\u001b[38;5;124m\"\u001b[39m\u001b[38;5;124mmodule \u001b[39m\u001b[38;5;132;01m{!r}\u001b[39;00m\u001b[38;5;124m has no attribute \u001b[39m\u001b[38;5;124m\"\u001b[39m\n\u001b[0;32m    348\u001b[0m                      \u001b[38;5;124m\"\u001b[39m\u001b[38;5;132;01m{!r}\u001b[39;00m\u001b[38;5;124m\"\u001b[39m\u001b[38;5;241m.\u001b[39mformat(\u001b[38;5;18m__name__\u001b[39m, attr))\n",
      "\u001b[1;31mAttributeError\u001b[0m: module 'numpy' has no attribute 'astype'"
     ]
    }
   ],
   "source": [
    "TRITON_SERVER_URL = \"localhost:8001\"\n",
    "MODEL_NAME = \"densenet_onnx\"\n",
    "MODEL_VERSION = 0\n",
    "\n",
    "model = TritonModel(\n",
    "    model=MODEL_NAME,\n",
    "    version=MODEL_VERSION,\n",
    "    url=TRITON_SERVER_URL,\n",
    "    grpc=True\n",
    ")\n",
    "\n",
    "image_path = r\"C:\\Users\\Duc Huynh\\Triton-Server-Inference\\model_hosting\\img1.jpg\"\n",
    "image = cv2.imread(image_path)\n",
    "\n",
    "image = cv2.resize(image, (224, 224))\n",
    "image = image.astype(np.float32) / 255.0\n",
    "image = np.transpose(image, (2, 0, 1))  # [3, 224, 224]\n",
    "image = np.expand_dims(image, axis=0)    # [1, 3, 224, 224]\n",
    "\n",
    "outputs = model.run(data=[image])\n",
    "print(outputs)\n"
   ]
  }
 ],
 "metadata": {
  "kernelspec": {
   "display_name": "Python 3",
   "language": "python",
   "name": "python3"
  },
  "language_info": {
   "codemirror_mode": {
    "name": "ipython",
    "version": 3
   },
   "file_extension": ".py",
   "mimetype": "text/x-python",
   "name": "python",
   "nbconvert_exporter": "python",
   "pygments_lexer": "ipython3",
   "version": "3.12.8"
  }
 },
 "nbformat": 4,
 "nbformat_minor": 2
}
